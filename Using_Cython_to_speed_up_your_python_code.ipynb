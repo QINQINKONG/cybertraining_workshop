{
 "cells": [
  {
   "cell_type": "markdown",
   "metadata": {},
   "source": [
    "# Cython\n",
    "In this tutorial, we will introduce how to use cython to speed up our python code"
   ]
  },
  {
   "cell_type": "code",
   "execution_count": null,
   "metadata": {
    "tags": []
   },
   "outputs": [],
   "source": [
    "import xarray as xr\n",
    "import intake\n",
    "import numpy as np\n",
    "from scipy import optimize\n",
    "from numba import njit, vectorize\n",
    "import cython"
   ]
  },
  {
   "cell_type": "markdown",
   "metadata": {},
   "source": [
    "____________\n",
    "## 1. Read in CMIP6 data in Cloud\n",
    "____________"
   ]
  },
  {
   "cell_type": "code",
   "execution_count": null,
   "metadata": {},
   "outputs": [],
   "source": [
    "col = intake.open_esm_datastore(\"https://storage.googleapis.com/cmip6/pangeo-cmip6.json\")\n",
    "query = dict(experiment_id=['historical','ssp585'],\n",
    "             source_id='KACE-1-0-G',\n",
    "             table_id='3hr',\n",
    "             variable_id=['tas','huss','ps'],\n",
    "             member_id = 'r1i1p1f1')\n",
    "col_subset = col.search(require_all_on=['source_id'], **query)\n",
    "col_subset.df"
   ]
  },
  {
   "cell_type": "code",
   "execution_count": null,
   "metadata": {},
   "outputs": [],
   "source": [
    "dset_dict = col_subset.to_dataset_dict(zarr_kwargs={'consolidated': True})"
   ]
  },
  {
   "cell_type": "code",
   "execution_count": null,
   "metadata": {},
   "outputs": [],
   "source": [
    "list(dset_dict.keys())"
   ]
  },
  {
   "cell_type": "code",
   "execution_count": null,
   "metadata": {
    "tags": []
   },
   "outputs": [],
   "source": [
    "# we only select the first and last year of this century and compare them\n",
    "hist=dset_dict['CMIP.NIMS-KMA.KACE-1-0-G.historical.3hr.gr'].sel(time='2000')\n",
    "ssp=dset_dict['ScenarioMIP.NIMS-KMA.KACE-1-0-G.ssp585.3hr.gr'].sel(time='2100')"
   ]
  },
  {
   "cell_type": "markdown",
   "metadata": {},
   "source": [
    "____________\n",
    "## 2. Wet bulb temperature calculation using pure python functions\n",
    "____________\n",
    "First, we define a set of pure python functions to calculate wet bulb temperature.\n",
    "References:\n",
    "- Bolton: *The computation of equivalent potential temperature. Monthly weather review (1980) vol. 108 (7) pp. 1046-1053*\n",
    "- Davies-Jones: *An efficient and accurate method for computing the wet-bulb temperature along pseudoadiabats. Monthly Weather Review (2008) vol. 136 (7) pp. 2764-2785*"
   ]
  },
  {
   "cell_type": "code",
   "execution_count": null,
   "metadata": {
    "tags": []
   },
   "outputs": [],
   "source": [
    "# define some constants\n",
    "kd = 0.2854\n",
    "lamda = 3.504\n",
    "C = 273.15\n",
    "y0 = 3036.0\n",
    "y1 = 1.78\n",
    "y2 = 0.448\n",
    "\n",
    "# return saturation vapor pressure (Pa)\n",
    "def esat(Tk):\n",
    "    # Tk: air temperature (K)\n",
    "    return 611.2*np.exp(17.67*(Tk-C)*((Tk-29.65)**(-1)))\n",
    "\n",
    "# return saturation mixing ratio (kg/kg)\n",
    "def mixrsat(Tk, ps):\n",
    "    # Tk: air temperature (K)\n",
    "    return 0.622*esat(Tk)*((ps - esat(Tk))**(-1))\n",
    "\n",
    "#return vapor pressure (Pa)\n",
    "def vaporpres(huss, ps):\n",
    "    #huss: specific humidity (kg/kg)\n",
    "    #ps: surface pressure (Pa)\n",
    "    r=huss*((1-huss)**(-1))\n",
    "    return ps*r*((0.622+r)**(-1))\n",
    "\n",
    "# return temperature at lifting condensative level\n",
    "def lcltemp(Tk,e):\n",
    "    # Tk: air temperature (K)\n",
    "    # e: vapor pressure (Pa)\n",
    "    return 2840.0*(( 3.5*np.log(Tk) - np.log(e/100.0) - 4.805)**(-1)) + 55.0\n",
    "    \n",
    "# return potential temperature at LCL (K)\n",
    "def thetadl(Tk, ps, e,Tl,mixr):\n",
    "    return Tk*((100000*((ps-e)**(-1)))**kd)*((Tk*(Tl**(-1)))**(mixr*0.00028))\n",
    "\n",
    "# return equivalent potential temperature (K)\n",
    "def thetae(theta_dl, Tl, mixr):\n",
    "    return theta_dl*np.exp(((3.036*(Tl**(-1)))-0.00178)*mixr*(1.0 + 0.000448*mixr))\n",
    "\n",
    "# 1st guess of wet bulb temperature\n",
    "def wb1stguess(X, D, Teq, ps, pi):\n",
    "    if X > D:\n",
    "        rs_teq=mixrsat(Teq,ps)\n",
    "        dlnes_dTeq = 4302.645*((Teq-29.65)**(-2))\n",
    "        wb_temp = Teq - ((2675.0*rs_teq)*((1.0 + 2675.0*rs_teq*dlnes_dTeq)**(-1)))\n",
    "    else:\n",
    "        k1 = pi*(-38.5*pi+137.81)-53.737\n",
    "        k2 = pi*(-4.392*pi+56.831)-0.384\n",
    "        if X>=1.0 and X<=D:\n",
    "            wb_temp = k1-k2*X+C\n",
    "        elif X>=0.4 and X<1:\n",
    "            wb_temp = k1-1.21-(k2-1.21)*X+C\n",
    "        else:\n",
    "            wb_temp = k1-2.66-(k2-1.21)*X+0.58*(X**(-1))+C\n",
    "    return wb_temp\n",
    "def f(wb, ps, rs_wb):\n",
    "    G=(y0*(wb**(-1))-y1)*(rs_wb*(1+y2*rs_wb))\n",
    "    return ((C*(wb**(-1)))**lamda)*(1.0 - esat(wb)*(ps**(-1)))*np.exp(-lamda*G)\n",
    "def dfdT(wb,ps,rs_wb):\n",
    "    des_dwb=esat(wb)*4302.645*((wb-29.65)**(-2))\n",
    "    pminuse = ps - esat(wb)\n",
    "    rsdT=0.622*ps*(pminuse**(-2))*des_dwb\n",
    "    dGdT = -y0*(rs_wb+y2*rs_wb*rs_wb)*(wb**(-2))+(y0*(wb**(-1))-y1)*(1.0+2.0*y2*rs_wb)*rsdT\n",
    "    return -lamda*(wb**(-1)+kd*((pminuse)**(-1))*des_dwb+dGdT)*f(wb,ps,rs_wb)\n",
    "def fwb(x, C0,C1):\n",
    "    rs=mixrsat(x,C0)\n",
    "    ff=f(x,C0,rs)\n",
    "    df=dfdT(x,C0,rs)\n",
    "    return (ff - C1)*(df**(-1))\n",
    "\n",
    "# return wet bulb temperature\n",
    "def wetbulb_py (Tk, huss, ps, xtol=0.001, rtol=8.881784197001252e-16, mitr=100):\n",
    "    Tk=np.atleast_3d(Tk)\n",
    "    huss=np.atleast_3d(huss)\n",
    "    ps=np.atleast_3d(ps)\n",
    "    x_max = Tk.shape[0]\n",
    "    y_max = Tk.shape[1]\n",
    "    z_max = Tk.shape[2]\n",
    "    result = np.zeros((x_max, y_max, z_max), dtype=np.float64)\n",
    "    for i in range(x_max):\n",
    "        for j in range(y_max):\n",
    "            for k in range(z_max):\n",
    "                ps_tmp=ps[i,j,k]\n",
    "                huss_tmp=huss[i,j,k]\n",
    "                Tk_tmp=Tk[i,j,k]\n",
    "                pi = (ps_tmp/100000)**(kd)\n",
    "                mixr=huss_tmp*((1-huss_tmp)**(-1))*1000\n",
    "                e=vaporpres(huss_tmp,ps_tmp)\n",
    "                D = (0.1859*ps_tmp/100000 + 0.6512)**(-1)\n",
    "                Tl = lcltemp(Tk_tmp,e)\n",
    "                theta_dl=thetadl(Tk_tmp, ps_tmp, e,Tl,mixr)\n",
    "                epott = thetae(theta_dl,Tl,mixr)\n",
    "                Teq = epott*pi\n",
    "                X = (C*(Teq**(-1)))**lamda\n",
    "                wb_temp=wb1stguess(X, D, Teq,ps_tmp,pi)\n",
    "                xa=wb_temp-10\n",
    "                xb=wb_temp+10\n",
    "                C0=ps_tmp\n",
    "                C1=X\n",
    "                result[i,j,k]=optimize.brentq(fwb, xa, xb, (C0,C1), xtol, rtol, mitr) # use scipy.optimize.brentq\n",
    "    return result.squeeze()"
   ]
  },
  {
   "cell_type": "markdown",
   "metadata": {},
   "source": [
    "Let's calculate wet bulb temperature for only one time step, and look at how long it takes"
   ]
  },
  {
   "cell_type": "code",
   "execution_count": null,
   "metadata": {
    "tags": []
   },
   "outputs": [],
   "source": [
    "tas=hist.tas.squeeze().drop(['height','member_id'])[0,:,:].load()\n",
    "huss=hist.huss.squeeze().drop(['height','member_id'])[0,:,:].load()\n",
    "ps=hist.ps.squeeze().drop(['height','member_id'])[0,:,:].load()"
   ]
  },
  {
   "cell_type": "code",
   "execution_count": null,
   "metadata": {},
   "outputs": [],
   "source": [
    "%time wb=wetbulb_py(tas.values, huss.values, ps.values)"
   ]
  },
  {
   "cell_type": "markdown",
   "metadata": {},
   "source": [
    "____________\n",
    "## 3. Speed up our python code using cython\n",
    "____________\n"
   ]
  },
  {
   "cell_type": "markdown",
   "metadata": {},
   "source": [
    "Numba's ```@njit``` decorator can compile python code into machine code and make our for loop much faster. However, it won't work in this case. \n",
    "\n",
    "Cython is what we need! In order to really show how Cython is useful, let's start from the basics!"
   ]
  },
  {
   "cell_type": "markdown",
   "metadata": {},
   "source": [
    "**How to build Cython code?**\n",
    "\n",
    "**Two stages:**\n",
    "- use Cython compiler to compile cython source file (```.pyx```) into C code (```.c```)\n",
    "- use C compiler to compile ```.c``` file into ```.so``` file\n",
    "\n",
    "**Several ways:**\n",
    "- setup tools (more flexible, powerful)\n",
    "- jupyter notebook: Cython compilation interactively (more interactive)"
   ]
  },
  {
   "cell_type": "code",
   "execution_count": null,
   "metadata": {
    "tags": []
   },
   "outputs": [],
   "source": [
    "def f(x):\n",
    "    return x**2-x\n",
    "\n",
    "def integrate_f_py(a, b, N):\n",
    "    s = 0\n",
    "    dx = (b-a)/N\n",
    "    for i in range(N):\n",
    "        s += f(a+i*dx)\n",
    "    return s * dx"
   ]
  },
  {
   "cell_type": "code",
   "execution_count": null,
   "metadata": {
    "tags": []
   },
   "outputs": [],
   "source": [
    "%load_ext Cython"
   ]
  },
  {
   "cell_type": "code",
   "execution_count": null,
   "metadata": {},
   "outputs": [],
   "source": [
    "%%cython -a\n",
    "def f_cy(x):\n",
    "    return x**2-x\n",
    "\n",
    "def integrate_f_cy(a, b, N):\n",
    "    s = 0\n",
    "    dx = (b-a)/N\n",
    "    for i in range(N):\n",
    "        s += f_cy(a+i*dx)\n",
    "    return s * dx"
   ]
  },
  {
   "cell_type": "code",
   "execution_count": null,
   "metadata": {},
   "outputs": [],
   "source": [
    "%timeit integrate_f_py(1, 100, 1000)"
   ]
  },
  {
   "cell_type": "code",
   "execution_count": null,
   "metadata": {},
   "outputs": [],
   "source": [
    "%timeit integrate_f_cy(1, 100, 1000)"
   ]
  },
  {
   "cell_type": "markdown",
   "metadata": {},
   "source": [
    "Speed up by **30%** without doing anything: removal of interpreter overhead."
   ]
  },
  {
   "cell_type": "markdown",
   "metadata": {},
   "source": [
    "However the real improvement come from static typing!"
   ]
  },
  {
   "cell_type": "markdown",
   "metadata": {},
   "source": [
    "**We can type variables**"
   ]
  },
  {
   "cell_type": "code",
   "execution_count": null,
   "metadata": {},
   "outputs": [],
   "source": [
    "%%cython -a\n",
    "def f_static(double x):\n",
    "    return x**2-x\n",
    "\n",
    "def integrate_f_static_var(double a, double b, int N):\n",
    "    cdef int i\n",
    "    cdef double s, dx\n",
    "    s = 0\n",
    "    dx = (b-a)/N\n",
    "    for i in range(N):\n",
    "        s += f_static(a+i*dx)\n",
    "    return s * dx"
   ]
  },
  {
   "cell_type": "code",
   "execution_count": null,
   "metadata": {},
   "outputs": [],
   "source": [
    "%timeit integrate_f_static_var(1, 100, 1000)"
   ]
  },
  {
   "cell_type": "markdown",
   "metadata": {},
   "source": [
    "5 times speed up!"
   ]
  },
  {
   "cell_type": "markdown",
   "metadata": {},
   "source": [
    "**We can also type function!** Python function is expensive, especially when calling in cython."
   ]
  },
  {
   "cell_type": "code",
   "execution_count": null,
   "metadata": {},
   "outputs": [],
   "source": [
    "%%cython -a\n",
    "cdef double f_static(double x):\n",
    "    return x**2-x\n",
    "\n",
    "def integrate_f_static_var_func(double a, double b, int N):\n",
    "    cdef int i\n",
    "    cdef double s\n",
    "    s = 0\n",
    "    dx = (b-a)*N**(-1)\n",
    "    for i in range(N):\n",
    "        s += f_static(a+i*dx)\n",
    "    return s * dx"
   ]
  },
  {
   "cell_type": "code",
   "execution_count": null,
   "metadata": {},
   "outputs": [],
   "source": [
    "%timeit integrate_f_static_var_func(1, 100, 1000)"
   ]
  },
  {
   "cell_type": "markdown",
   "metadata": {},
   "source": [
    "200 times speed up!"
   ]
  },
  {
   "cell_type": "markdown",
   "metadata": {},
   "source": [
    "**Three typs of functions in cython.**\n",
    "- ```cdef``` function can only be called within cython: fast supporting functions\n",
    "- ```def``` functions can be called in python session: function that you want to import in python\n",
    "- ```cpdef``` function can be called both within cython (as C functions) and python (python wrapper)"
   ]
  },
  {
   "cell_type": "markdown",
   "metadata": {},
   "source": [
    "**No need to type everything!**\n",
    "- cython enables automatic type inference during assignmnet\n",
    "- Unnecessary typing may even slow things down (unnecessary type checks or conversions)\n",
    "- Must type in performance critical part of the code (such as ```for``` loop: ```for``` loop needs to be white! ) "
   ]
  },
  {
   "cell_type": "markdown",
   "metadata": {},
   "source": [
    "**compare with Numba ```@njit```**"
   ]
  },
  {
   "cell_type": "code",
   "execution_count": null,
   "metadata": {
    "tags": []
   },
   "outputs": [],
   "source": [
    "@njit\n",
    "def f_njit(x):\n",
    "    return x**2-x\n",
    "@njit\n",
    "def integrate_f_njit(a,b, N):\n",
    "    s = 0\n",
    "    dx = (b-a)/N\n",
    "    for i in range(N):\n",
    "        s += f_njit(a+i*dx)\n",
    "    return s * dx"
   ]
  },
  {
   "cell_type": "code",
   "execution_count": null,
   "metadata": {},
   "outputs": [],
   "source": [
    "%timeit integrate_f_njit(1, 100, 1000)"
   ]
  },
  {
   "cell_type": "markdown",
   "metadata": {},
   "source": [
    "**Cython makes caling external C libraries straightfoward**\n",
    "\n",
    "Cython already defines many standard C libarary functions for us! Such as the most commonly used standard C math library\n",
    "\n",
    "```python\n",
    "from libc.math cimport sin\n",
    "cdef double f(double x):\n",
    "    return sin(x * x)\n",
    "```\n",
    "\n",
    "https://github.com/cython/cython/blob/master/Cython/Includes/libc/math.pxd"
   ]
  },
  {
   "cell_type": "markdown",
   "metadata": {},
   "source": [
    "**Cython for numpy user!**"
   ]
  },
  {
   "cell_type": "code",
   "execution_count": null,
   "metadata": {
    "tags": []
   },
   "outputs": [],
   "source": [
    "# a simple python function: add two arrays\n",
    "a=np.random.randn(100,100)\n",
    "b=np.random.randn(100,100)\n",
    "def add_numpy(array_1,array_2):\n",
    "    return array_1+array_2"
   ]
  },
  {
   "cell_type": "code",
   "execution_count": null,
   "metadata": {},
   "outputs": [],
   "source": [
    "# numpy is already hightly optimized for such simple vectorized computation\n",
    "%timeit add_numpy(a,b)"
   ]
  },
  {
   "cell_type": "markdown",
   "metadata": {},
   "source": [
    "naively compile it"
   ]
  },
  {
   "cell_type": "code",
   "execution_count": null,
   "metadata": {},
   "outputs": [],
   "source": [
    "%%cython -a\n",
    "def add_cy(array_1,array_2):\n",
    "    return array_1+array_2"
   ]
  },
  {
   "cell_type": "code",
   "execution_count": null,
   "metadata": {},
   "outputs": [],
   "source": [
    "# no performance improvement, that's not how cython deal with array calculation\n",
    "%timeit add_cy(a,b)"
   ]
  },
  {
   "cell_type": "code",
   "execution_count": null,
   "metadata": {
    "tags": []
   },
   "outputs": [],
   "source": [
    "# in order to show how cython speed up array calculation, let's start with this simple pure python code\n",
    "# which does the same thing but use for loop\n",
    "def add_py(array_1, array_2):\n",
    "    x_max = array_1.shape[0]\n",
    "    y_max = array_1.shape[1]\n",
    "    result = np.zeros((x_max, y_max), dtype=array_1.dtype)\n",
    "    for x in range(x_max):\n",
    "        for y in range(y_max):\n",
    "            result[x, y] = array_1[x, y]+array_2[x, y]\n",
    "    return result"
   ]
  },
  {
   "cell_type": "code",
   "execution_count": null,
   "metadata": {},
   "outputs": [],
   "source": [
    "# as we expect, it's slow\n",
    "%timeit add_py(a,b)"
   ]
  },
  {
   "cell_type": "code",
   "execution_count": null,
   "metadata": {},
   "outputs": [],
   "source": [
    "%%cython -a\n",
    "import numpy as np\n",
    "def add_cy1(array_1, array_2):\n",
    "    x_max = array_1.shape[0]\n",
    "    y_max = array_1.shape[1]\n",
    "    result = np.zeros((x_max, y_max), dtype=array_1.dtype)\n",
    "    for x in range(x_max):\n",
    "        for y in range(y_max):\n",
    "            result[x, y] = array_1[x, y]+array_2[x, y]\n",
    "    return result"
   ]
  },
  {
   "cell_type": "code",
   "execution_count": null,
   "metadata": {},
   "outputs": [],
   "source": [
    "%timeit add_cy1(a,b)"
   ]
  },
  {
   "cell_type": "markdown",
   "metadata": {},
   "source": [
    "Only 30% speed up, we know real improvement come from static typing, but how to type array?\n",
    "\n",
    "**Typed memoryview**\n",
    "- **Memoryview:** memoryviews are C structures that can hold a pointer to the data of a NumPy array and all the necessary buffer metadata to provide efficient and safe access: dimensions, strides, item size, item type information, etc… They can be indexed by C integers, thus allowing fast access to the NumPy array data.\n",
    "\n",
    "```python\n",
    "cdef int [:] foo         # 1D memoryview\n",
    "cdef int [:, :] foo      # 2D memoryview\n",
    "cdef int [:, :, :] foo   # 3D memoryview\n",
    "...                      # You get the idea.\n",
    "```"
   ]
  },
  {
   "cell_type": "code",
   "execution_count": null,
   "metadata": {},
   "outputs": [],
   "source": [
    "%%cython -a\n",
    "import numpy as np\n",
    "cimport numpy as np\n",
    "def add_cy2(double[:, :] array_1, double[:, :] array_2):\n",
    "    # Py_ssize_t is the proper C type for Python array indices.\n",
    "    cdef Py_ssize_t x_max = array_1.shape[0]\n",
    "    cdef Py_ssize_t y_max = array_1.shape[1]\n",
    "    result = np.zeros((x_max, y_max))\n",
    "    cdef double[:, :] result_view = result\n",
    "    cdef Py_ssize_t x, y\n",
    "    for x in range(x_max):\n",
    "        for y in range(y_max):\n",
    "            result_view[x, y] = array_1[x, y]+array_2[x, y]\n",
    "    return result"
   ]
  },
  {
   "cell_type": "code",
   "execution_count": null,
   "metadata": {},
   "outputs": [],
   "source": [
    "%timeit add_cy2(a,b)"
   ]
  },
  {
   "cell_type": "markdown",
   "metadata": {},
   "source": [
    "Still slower than Numpy. What else we can do? \n",
    "\n",
    "**contiguous memory view** can enable fast index!\n",
    "```python\n",
    "cdef double[:, ::1] foo\n",
    "```"
   ]
  },
  {
   "cell_type": "code",
   "execution_count": null,
   "metadata": {},
   "outputs": [],
   "source": [
    "%%cython -a\n",
    "import numpy as np\n",
    "cimport cython\n",
    "@cython.boundscheck(False)  # Deactivate bounds checking\n",
    "@cython.wraparound(False)   # Deactivate negative indexing.\n",
    "def add_cy3(double[:, ::1] array_1, double[:, ::1] array_2): #C contiguous memoryview\n",
    "    cdef Py_ssize_t x_max = array_1.shape[0]\n",
    "    cdef Py_ssize_t y_max = array_1.shape[1]\n",
    "    result = np.zeros((x_max, y_max))\n",
    "    cdef double[:, ::1] result_view = result\n",
    "    cdef Py_ssize_t x, y\n",
    "    for x in range(x_max):\n",
    "        for y in range(y_max):\n",
    "            result_view[x, y] = array_1[x, y]+array_2[x, y]\n",
    "    return result"
   ]
  },
  {
   "cell_type": "code",
   "execution_count": null,
   "metadata": {},
   "outputs": [],
   "source": [
    "%timeit add_cy3(a,b)"
   ]
  },
  {
   "cell_type": "markdown",
   "metadata": {},
   "source": [
    "After all these efforts, we still cannot defeat Numpy. So, we definitely don't want to use Cython for such simple vectorized calculation. \n",
    "\n",
    "So, when should we use cython? Before answer this question, let's look at another functionality that Cython offer us:\n",
    "\n",
    "**Using Parallelism: ```prange```**"
   ]
  },
  {
   "cell_type": "code",
   "execution_count": null,
   "metadata": {},
   "outputs": [],
   "source": [
    "%%cython -a --compile-args=-fopenmp --link-args=-fopenmp\n",
    "from cython.parallel import prange\n",
    "import numpy as np\n",
    "cimport cython\n",
    "@cython.boundscheck(False)  # Deactivate bounds checking\n",
    "@cython.wraparound(False)   # Deactivate negative indexing.\n",
    "def add_cy4(double[:, ::1] array_1, double[:, ::1] array_2):\n",
    "    cdef Py_ssize_t x_max = array_1.shape[0]\n",
    "    cdef Py_ssize_t y_max = array_1.shape[1]\n",
    "    result = np.zeros((x_max, y_max))\n",
    "    cdef double[:, ::1] result_view = result\n",
    "    cdef Py_ssize_t x, y\n",
    "    for x in prange(x_max,nogil=True):\n",
    "        for y in range(y_max):\n",
    "            result_view[x, y] = array_1[x, y]+array_2[x, y]\n",
    "    return result"
   ]
  },
  {
   "cell_type": "code",
   "execution_count": null,
   "metadata": {},
   "outputs": [],
   "source": [
    "%timeit add_cy4(a,b)"
   ]
  },
  {
   "cell_type": "code",
   "execution_count": null,
   "metadata": {},
   "outputs": [],
   "source": [
    "%timeit add_numpy(a,b)"
   ]
  },
  {
   "cell_type": "code",
   "execution_count": null,
   "metadata": {
    "tags": []
   },
   "outputs": [],
   "source": [
    "# make arrays bigger to show the benefits of parallelism\n",
    "a=np.random.randn(1000,10000)\n",
    "b=np.random.randn(1000,10000)"
   ]
  },
  {
   "cell_type": "markdown",
   "metadata": {},
   "source": [
    "**When should we use Cython?**\n",
    "\n",
    "- definitely not for ```a+b```; most useful for speeding up operations that can't be easily vectorized\n",
    "- Use Cython for bottlenecks, rather than re-writing everything in Cython\n",
    "- Numba ```@njit``` is an alternative, but sometimes not feasible, an example: https://docs.scipy.org/doc/scipy/reference/optimize.cython_optimize.html"
   ]
  },
  {
   "cell_type": "code",
   "execution_count": null,
   "metadata": {},
   "outputs": [],
   "source": [
    "%%cython -a --compile-args=-Ofast,-fopenmp --link-args=-fopenmp\n",
    "import numpy as np\n",
    "cimport numpy as np\n",
    "cimport cython\n",
    "from libc cimport math\n",
    "from cython.parallel import prange\n",
    "from scipy.optimize.cython_optimize cimport brentq\n",
    "    \n",
    "cdef double kd,lamda, C, y0, y1, y2\n",
    "kd = 0.2854\n",
    "lamda = 3.504\n",
    "C = 273.15\n",
    "y0 = 3036.0\n",
    "y1 = 1.78\n",
    "y2 = 0.448\n",
    "\n",
    "\n",
    "ctypedef struct wb_params:\n",
    "    double C0\n",
    "    double C1\n",
    "\n",
    "cdef double esat(double Tk) nogil:\n",
    "    return 611.2*math.exp(17.67*(Tk-C)*((Tk-29.65)**(-1)))\n",
    "\n",
    "cdef double mixrsat(double Tk,double ps) nogil:\n",
    "    return 0.622*esat(Tk)*((ps - esat(Tk))**(-1))\n",
    "\n",
    "cdef double vaporpres(double huss, double ps) nogil:\n",
    "    cdef double r\n",
    "    r=huss*((1-huss)**(-1))\n",
    "    return ps*r*((0.622+r)**(-1))\n",
    "\n",
    "cdef double lcltemp(double Tk,double e) nogil:\n",
    "    return 2840.0*(( 3.5*math.log(Tk) - math.log(e/100.0) - 4.805)**(-1)) + 55.0\n",
    "\n",
    "cdef double thetadl(double Tk, double ps, double e,double Tl,double mixr) nogil:\n",
    "    return Tk*((100000*((ps-e)**(-1)))**kd)*((Tk*(Tl**(-1)))**(mixr*0.00028))\n",
    "\n",
    "cdef double thetae(double theta_dl, double Tl, double mixr) nogil:\n",
    "    return theta_dl*math.exp(((3.036*(Tl**(-1)))-0.00178)*mixr*(1.0 + 0.000448*mixr))\n",
    "\n",
    "cdef double wb1stguess(double X, double D, double Teq, double ps, double pi) nogil:\n",
    "    cdef double rs_teq, dlnes_dTeq, wb_temp, k1, k2\n",
    "    if X > D:\n",
    "        rs_teq=mixrsat(Teq,ps)\n",
    "        dlnes_dTeq = 4302.645*((Teq-29.65)**(-2))\n",
    "        wb_temp = Teq - ((2675.0*rs_teq)*((1.0 + 2675.0*rs_teq*dlnes_dTeq)**(-1)))\n",
    "    else:\n",
    "        k1 = pi*(-38.5*pi+137.81)-53.737\n",
    "        k2 = pi*(-4.392*pi+56.831)-0.384\n",
    "        if X>=1.0 and X<=D:\n",
    "            wb_temp = k1-k2*X+C\n",
    "        elif X>=0.4 and X<1:\n",
    "            wb_temp = k1-1.21-(k2-1.21)*X+C\n",
    "        else:\n",
    "            wb_temp = k1-2.66-(k2-1.21)*X+0.58*(X**(-1))+C\n",
    "    return wb_temp\n",
    "\n",
    "cdef double f(double wb, double ps, double rs_wb) nogil:\n",
    "    cdef double G\n",
    "    G=(y0*(wb**(-1))-y1)*(rs_wb*(1+y2*rs_wb))\n",
    "    return ((C*(wb**(-1)))**lamda)*(1.0 - esat(wb)*(ps**(-1)))*math.exp(-lamda*G)\n",
    "\n",
    "cdef double dfdT(double wb,double ps,double rs_wb) nogil:\n",
    "    cdef double des_dwb, pminus, rsdT, dGdT\n",
    "    des_dwb=esat(wb)*4302.645*((wb-29.65)**(-2))\n",
    "    pminuse = ps - esat(wb) #pminus in Pa\n",
    "    rsdT=0.622*ps*(pminuse**(-2))*des_dwb\n",
    "    dGdT = -y0*(rs_wb+y2*rs_wb*rs_wb)*(wb**(-2))+(y0*(wb**(-1))-y1)*(1.0+2.0*y2*rs_wb)*rsdT\n",
    "    return -lamda*(wb**(-1)+kd*((pminuse)**(-1))*des_dwb+dGdT)*f(wb,ps,rs_wb)\n",
    "\n",
    "cdef double fwb(double x, void *args) nogil:\n",
    "    cdef wb_params *myargs = <wb_params *> args\n",
    "    cdef double rs,ff,df\n",
    "    rs=mixrsat(x,myargs.C0)\n",
    "    ff=f(x,myargs.C0,rs)\n",
    "    df=dfdT(x,myargs.C0,rs)\n",
    "    return (ff - myargs.C1)*(df**(-1))\n",
    "\n",
    "cdef double wb_brentq_wrapper(wb_params args, double xa, double xb, double xtol, double rtol, int mitr) nogil:\n",
    "    return brentq(fwb, xa, xb, <wb_params *> &args, xtol, rtol, mitr, NULL)\n",
    "\n",
    "@cython.wraparound(False)\n",
    "@cython.boundscheck(False)\n",
    "def wetbulb_cython (const double[:,:,:] Tk, const double[:,:,:] huss, const double[:,:,:] ps, double xtol=0.001, double rtol=0.0, int mitr=100000):\n",
    "    cdef const double[:, :, ::1] Tk_view=Tk.copy()\n",
    "    cdef const double[:, :, ::1] huss_view=huss.copy()\n",
    "    cdef const double[:, :, ::1] ps_view=ps.copy()\n",
    "    cdef Py_ssize_t i, j, k, x_max, y_max, z_max\n",
    "    x_max = Tk_view.shape[0]\n",
    "    y_max = Tk_view.shape[1]\n",
    "    z_max = Tk_view.shape[2]\n",
    "    result = np.zeros((x_max, y_max, z_max), dtype=np.float64)\n",
    "    cdef double[:, :, ::1] result_view = result\n",
    "    cdef double xa,xb,ps_tmp,huss_tmp,Tk_tmp,pi, mixr,e, D,Tl,theta_dl,epott,Teq,X,wb_temp\n",
    "    cdef wb_params args\n",
    "    for i in prange(x_max,nogil=True):\n",
    "        for j in range(y_max):\n",
    "            for k in range(z_max):\n",
    "                ps_tmp=ps_view[i,j,k]\n",
    "                huss_tmp=huss_view[i,j,k]\n",
    "                Tk_tmp=Tk_view[i,j,k]\n",
    "                pi = (ps_tmp/100000)**(kd)\n",
    "                mixr=huss_tmp*((1-huss_tmp)**(-1))*1000 #mixing ratio (g/kg)\n",
    "                e=vaporpres(huss_tmp,ps_tmp)\n",
    "                D = (0.1859*ps_tmp/100000 + 0.6512)**(-1)\n",
    "                Tl = lcltemp(Tk_tmp,e)\n",
    "                theta_dl=thetadl(Tk_tmp, ps_tmp, e,Tl,mixr)\n",
    "                epott = thetae(theta_dl,Tl,mixr)\n",
    "                Teq = epott*pi\n",
    "                X = (C*(Teq**(-1)))**lamda\n",
    "                wb_temp=wb1stguess(X, D, Teq,ps_tmp,pi)\n",
    "                xa=wb_temp-10\n",
    "                xb=wb_temp+10\n",
    "                args.C0=ps_tmp\n",
    "                args.C1=X\n",
    "                result_view[i,j,k]=wb_brentq_wrapper(args, xa, xb, xtol, rtol, mitr)\n",
    "    return result"
   ]
  },
  {
   "cell_type": "code",
   "execution_count": null,
   "metadata": {
    "tags": []
   },
   "outputs": [],
   "source": [
    "# our cython function require 3D output of double type. But we can be more flexible by for example fused type in Cython\n",
    "# Introduction to fused type: https://cython.readthedocs.io/en/latest/src/userguide/fusedtypes.html\n",
    "tas3d=np.atleast_3d(tas).astype('float64')\n",
    "huss3d=np.atleast_3d(huss).astype('float64')\n",
    "ps3d=np.atleast_3d(ps).astype('float64')"
   ]
  },
  {
   "cell_type": "code",
   "execution_count": null,
   "metadata": {
    "tags": []
   },
   "outputs": [],
   "source": [
    "%timeit wb=wetbulb_cython (tas3d, huss3d, ps3d).squeeze()"
   ]
  }
 ],
 "metadata": {
  "kernelspec": {
   "display_name": "qin",
   "language": "python",
   "name": "qin"
  },
  "language_info": {
   "codemirror_mode": {
    "name": "ipython",
    "version": 3
   },
   "file_extension": ".py",
   "mimetype": "text/x-python",
   "name": "python",
   "nbconvert_exporter": "python",
   "pygments_lexer": "ipython3",
   "version": "3.8.8"
  }
 },
 "nbformat": 4,
 "nbformat_minor": 4
}
