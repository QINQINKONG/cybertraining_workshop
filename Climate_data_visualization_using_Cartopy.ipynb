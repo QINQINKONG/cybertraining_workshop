{
 "cells": [
  {
   "cell_type": "markdown",
   "metadata": {},
   "source": [
    "# Python data visualization\n",
    "\n",
    "This tutorial will first introduce the plotting functionality of Xarray which can enable you make a plot very quickly; then we talk about how to use cartopy to make publication quality maps."
   ]
  },
  {
   "cell_type": "code",
   "execution_count": null,
   "metadata": {
    "tags": []
   },
   "outputs": [],
   "source": [
    "# import packages we need\n",
    "import numpy as np\n",
    "import matplotlib.pyplot as plt\n",
    "import xarray as xr\n",
    "import cartopy.crs as ccrs\n",
    "import cartopy.feature as cfeature\n",
    "import matplotlib.ticker as mticker\n",
    "import matplotlib as mpl\n",
    "from matplotlib import gridspec\n",
    "from cartopy.util import add_cyclic_point\n",
    "import cmaps"
   ]
  },
  {
   "cell_type": "code",
   "execution_count": null,
   "metadata": {
    "tags": []
   },
   "outputs": [],
   "source": [
    "xr.set_options(display_style='html') # make the display_style of xarray more user friendly\n",
    "%matplotlib inline\n",
    "%config InlineBackend.figure_format = \"retina\" # make our figures look better "
   ]
  },
  {
   "cell_type": "markdown",
   "metadata": {},
   "source": [
    "____________\n",
    "## 1. Quick plot functionality of Xarray\n",
    "____________\n",
    "xarray plotting functionality is a thin wrapper around the popular matplotlib library. "
   ]
  },
  {
   "cell_type": "code",
   "execution_count": null,
   "metadata": {},
   "outputs": [],
   "source": [
    "# use the North American air temperature dataset in Xarray tutorial\n",
    "airtemps = xr.tutorial.open_dataset(\"air_temperature\")\n",
    "airtemps"
   ]
  },
  {
   "cell_type": "markdown",
   "metadata": {},
   "source": [
    "**One-dimensional plot**"
   ]
  },
  {
   "cell_type": "code",
   "execution_count": null,
   "metadata": {},
   "outputs": [],
   "source": [
    "# labels can also be used to easily create informative plots\n",
    "air1d = airtemps.air.isel(lat=10, lon=10)\n",
    "air1d[:200].plot(color=\"purple\", marker=\"o\",figsize=(10,4))"
   ]
  },
  {
   "cell_type": "markdown",
   "metadata": {},
   "source": [
    "**adding to existing axis**"
   ]
  },
  {
   "cell_type": "code",
   "execution_count": null,
   "metadata": {},
   "outputs": [],
   "source": [
    "fig, axes = plt.subplots(ncols=2,figsize=(10,4))\n",
    "air1d.plot(ax=axes[0])\n",
    "air1d.plot.hist(ax=axes[1])\n",
    "plt.tight_layout()\n",
    "plt.draw()"
   ]
  },
  {
   "cell_type": "markdown",
   "metadata": {},
   "source": [
    "**Multiple lines in one plot**"
   ]
  },
  {
   "cell_type": "code",
   "execution_count": null,
   "metadata": {},
   "outputs": [],
   "source": [
    "airtemps.air.isel(lon=10, lat=[19, 21, 22]).plot.line(x=\"time\",figsize=(10,4))"
   ]
  },
  {
   "cell_type": "markdown",
   "metadata": {},
   "source": [
    "**2-D map**"
   ]
  },
  {
   "cell_type": "code",
   "execution_count": null,
   "metadata": {},
   "outputs": [],
   "source": [
    "air2d = airtemps.air.isel(time=500)\n",
    "air2d.plot()"
   ]
  },
  {
   "cell_type": "markdown",
   "metadata": {},
   "source": [
    "**contour plot**"
   ]
  },
  {
   "cell_type": "code",
   "execution_count": null,
   "metadata": {
    "scrolled": true
   },
   "outputs": [],
   "source": [
    "air2d.plot.contour()"
   ]
  },
  {
   "cell_type": "markdown",
   "metadata": {},
   "source": [
    "**filled contour plot**"
   ]
  },
  {
   "cell_type": "code",
   "execution_count": null,
   "metadata": {},
   "outputs": [],
   "source": [
    "air2d.plot.contourf(cmap='bwr')"
   ]
  },
  {
   "cell_type": "code",
   "execution_count": null,
   "metadata": {},
   "outputs": [],
   "source": [
    "(air2d-273.15).plot.contourf(cmap='bwr',levels=np.arange(-30,30.1,5))\n",
    "plt.title(\"North America temperature\")\n",
    "plt.ylabel(\"latitude\")\n",
    "plt.xlabel(\"longitude\")"
   ]
  },
  {
   "cell_type": "markdown",
   "metadata": {},
   "source": [
    "**Faceting**"
   ]
  },
  {
   "cell_type": "code",
   "execution_count": null,
   "metadata": {},
   "outputs": [],
   "source": [
    "(airtemps.air-273.15).groupby('time.season').mean().plot(x=\"lon\", y=\"lat\", col=\"season\", col_wrap=2,cmap='bwr')"
   ]
  },
  {
   "cell_type": "markdown",
   "metadata": {},
   "source": [
    "Other types of plot that xarray supports: Streamplot, Quiver, Scatter; http://xarray.pydata.org/en/stable/user-guide/plotting.html"
   ]
  },
  {
   "cell_type": "markdown",
   "metadata": {},
   "source": [
    "____________\n",
    "## 2. Cartopy\n",
    "____________\n",
    "To start things off, we will introduce some basics of Cartopy to give you some ideas about what Cartopy can do!"
   ]
  },
  {
   "cell_type": "markdown",
   "metadata": {},
   "source": [
    "### 2.1 Create a basic map projection using Cartopy\n",
    "We create a basic map projection without using any real data. We will use the Cartopy feature interface (cfeature) to add some geographic features like ocean, lake, coastlines and borders. We will also add latitude and longitude gridlines."
   ]
  },
  {
   "cell_type": "code",
   "execution_count": null,
   "metadata": {},
   "outputs": [],
   "source": [
    "# Create and define the size of a figure object \n",
    "plt.figure(figsize=(8, 8))\n",
    "\n",
    "# Create an axis with a basic PlateCarree projection style\n",
    "ax = plt.axes(projection=ccrs.PlateCarree())\n",
    "# try different projection, e.g. Robinson\n",
    "#ax = plt.axes(projection=ccrs.Robinson())\n",
    "\n",
    "# A full list of cartopy map projections: https://scitools.org.uk/cartopy/docs/latest/crs/projections.html\n",
    "\n",
    "# Add natural features to map using cartopy.feature (cfeature)\n",
    "ax.add_feature(cfeature.LAND, edgecolor='orange', facecolor='grey', zorder=0) # Lower zorders will be drawn first.\n",
    "ax.add_feature(cfeature.LAKES, edgecolor='black', linewidth=0.2, facecolor='blue')\n",
    "ax.add_feature(cfeature.OCEAN)\n",
    "\n",
    "# Add country border lines\n",
    "#ax.add_feature(cfeature.NaturalEarthFeature(category='cultural',\n",
    "#                                           name='admin_0_countries',\n",
    "#                                           scale='50m', #1:50million; three options: 10m, 50m, 110m\n",
    "#                                           facecolor='none',\n",
    "#                                           edgecolor='black',\n",
    "#                                           linewidth=0.2))\n",
    "\n",
    "\n",
    "# Add lat/lon gridlines\n",
    "# Draw gridlines\n",
    "#gl = ax.gridlines(crs=ccrs.PlateCarree(), linewidth=1, color='grey', draw_labels=True,linestyle='--')\n",
    "\n",
    "# Manipulate latitude and longitude gridline numbers and spacing\n",
    "#gl.ylocator = mticker.FixedLocator(np.arange(-80,80.1,40))\n",
    "#gl.xlocator = mticker.FixedLocator(np.arange(-160, 160.1, 40))\n",
    "# turn off gridline label on the top and right side\n",
    "#gl.top_labels = False\n",
    "#gl.right_labels = False\n",
    "\n",
    "# For a list of available features in NaturalEarthFeature visit: https://www.naturalearthdata.com/features/"
   ]
  },
  {
   "cell_type": "markdown",
   "metadata": {},
   "source": [
    "### 2.2 A map with data"
   ]
  },
  {
   "cell_type": "code",
   "execution_count": null,
   "metadata": {
    "tags": []
   },
   "outputs": [],
   "source": [
    "# read in our output from data processing\n",
    "diff=xr.open_dataset('./output.nc')"
   ]
  },
  {
   "cell_type": "code",
   "execution_count": null,
   "metadata": {},
   "outputs": [],
   "source": [
    "fig = plt.figure(figsize=(8,6))\n",
    "ax = plt.axes(projection=ccrs.PlateCarree()) # Generate axes \n",
    "ax.coastlines('50m') # drawing coastlines\n",
    "levels = np.arange(-10, 10.1, 2)\n",
    "temp = diff.mean_diff.plot(ax=ax,\n",
    "                      transform=ccrs.PlateCarree(), # What is the difference between 'transform' and 'projection'?\n",
    "                      cmap=cmaps.sunshine_diff_12lev, # choose colormap\n",
    "                       levels=levels, # discrete color bar\n",
    "                      add_colorbar=False) # don't let xarray plot add colorbar automatically (which is the default)\n",
    "\n",
    "# control color bar\n",
    "cbar = plt.colorbar(temp,\n",
    "                    orientation='horizontal', # control the orientation of color bar\n",
    "                    shrink=0.7, # control the size of color bar relative to the axis\n",
    "                    pad=0.073, # control the distance between color bar and the map\n",
    "                    aspect=30, # control the width/height ratio of color bar\n",
    "                    ticks=levels) # determine where to put the ticks\n",
    "# control label size\n",
    "cbar.ax.tick_params(labelsize=10)\n",
    "\n",
    "# Add a title\n",
    "plt.title('change in annual mean wet bulb temperature', fontsize=15)\n",
    "plt.show()"
   ]
  },
  {
   "cell_type": "markdown",
   "metadata": {},
   "source": [
    "### 2.3 What if we only want to plot data over land or certain area?\n",
    "\n",
    "regionmask is a handy package to mask land, countries, or certain regions. Combining xarray and regionmask will make doing statistics over a certain region very easy."
   ]
  },
  {
   "cell_type": "code",
   "execution_count": null,
   "metadata": {
    "tags": []
   },
   "outputs": [],
   "source": [
    "import regionmask"
   ]
  },
  {
   "cell_type": "markdown",
   "metadata": {},
   "source": [
    "land mask"
   ]
  },
  {
   "cell_type": "code",
   "execution_count": null,
   "metadata": {},
   "outputs": [],
   "source": [
    "landmask= regionmask.defined_regions.natural_earth.land_110.mask(diff)\n",
    "landmask.plot()"
   ]
  },
  {
   "cell_type": "code",
   "execution_count": null,
   "metadata": {},
   "outputs": [],
   "source": [
    "fig = plt.figure(figsize=(8,6))\n",
    "ax = plt.axes(projection=ccrs.PlateCarree())\n",
    "ax.coastlines('50m',linewidth=0.5)\n",
    "levels = np.arange(-10, 10.1, 2)\n",
    "temp = diff.mean_diff.where(landmask==0).plot(ax=ax,  # the only change happens here\n",
    "                                          transform=ccrs.PlateCarree(),\n",
    "                                          cmap=cmaps.sunshine_diff_12lev,\n",
    "                                          levels=levels,\n",
    "                                          add_colorbar=False)\n",
    "cbar = plt.colorbar(temp,\n",
    "                    orientation='horizontal',\n",
    "                    shrink=0.7,\n",
    "                    pad=0.073,\n",
    "                    aspect=30,\n",
    "                    ticks=levels)\n",
    "\n",
    "cbar.ax.tick_params(labelsize=10)\n",
    "\n",
    "plt.title('Change in annual mean wet bulb temperature', fontsize=15)\n",
    "plt.show()"
   ]
  },
  {
   "cell_type": "markdown",
   "metadata": {},
   "source": [
    "country mask"
   ]
  },
  {
   "cell_type": "code",
   "execution_count": null,
   "metadata": {},
   "outputs": [],
   "source": [
    "# show the country code\n",
    "fig = plt.figure(figsize=(20,6))\n",
    "regionmask.defined_regions.natural_earth.countries_110.plot()"
   ]
  },
  {
   "cell_type": "code",
   "execution_count": null,
   "metadata": {},
   "outputs": [],
   "source": [
    "countrymask=regionmask.defined_regions.natural_earth.countries_110.mask(diff,lon_name=\"lon\", lat_name=\"lat\")\n",
    "# a xarray DataArray filled with country code\n",
    "countrymask"
   ]
  },
  {
   "cell_type": "code",
   "execution_count": null,
   "metadata": {},
   "outputs": [],
   "source": [
    "fig = plt.figure(figsize=(8,6))\n",
    "ax = plt.axes(projection=ccrs.PlateCarree())\n",
    "ax.coastlines('50m',linewidth=0.5)\n",
    "levels = np.arange(-10, 10.1, 2)\n",
    "temp = diff.mean_diff.where(countrymask==4).plot(ax=ax, # apply country mask\n",
    "                                          transform=ccrs.PlateCarree(),\n",
    "                                          cmap=cmaps.sunshine_diff_12lev,\n",
    "                                          levels=levels,\n",
    "                                          add_colorbar=False)\n",
    "#ax.add_feature(cfeature.BORDERS,alpha=0.6) #add country border\n",
    "#ax.set_extent([-170,-60,20,65]) # zoom in a certain area\n",
    "cbar = plt.colorbar(temp,\n",
    "                    orientation='horizontal',\n",
    "                    shrink=0.7,\n",
    "                    pad=0.073,\n",
    "                    aspect=30,\n",
    "                    ticks=levels)\n",
    "\n",
    "cbar.ax.tick_params(labelsize=10)\n",
    "\n",
    "plt.title('Change in annual mean wet bulb temperature for U.S.', fontsize=15)\n",
    "plt.show()"
   ]
  },
  {
   "cell_type": "markdown",
   "metadata": {},
   "source": [
    "An example of using regionmask to do statistics on a certain region: calculating land average temperature"
   ]
  },
  {
   "cell_type": "code",
   "execution_count": null,
   "metadata": {},
   "outputs": [],
   "source": [
    "diff.mean_diff.where(landmask==0).weighted(np.cos(np.deg2rad(diff.lat))).mean(('lat','lon'))"
   ]
  },
  {
   "cell_type": "markdown",
   "metadata": {},
   "source": [
    "### 2.4 Multiple maps sharing the same colorbar"
   ]
  },
  {
   "cell_type": "code",
   "execution_count": null,
   "metadata": {
    "tags": []
   },
   "outputs": [],
   "source": [
    "def subplot(data,axis,cmap,norm):\n",
    "    g=data.where(landmask==0).plot(ax=axis,transform=ccrs.PlateCarree(),cmap=cmap,add_colorbar=False,norm=norm)\n",
    "    axis.coastlines(linewidth=0.5)\n",
    "    axis.set_title('')\n",
    "    return g\n",
    "\n",
    "def plot(diff):\n",
    "    fig = plt.figure(figsize=[12, 5])\n",
    "    ax0 = fig.add_subplot(121,projection=ccrs.PlateCarree())\n",
    "    ax1 = fig.add_subplot(122,projection=ccrs.PlateCarree())\n",
    "    fig.subplots_adjust(bottom=0, left=0,right=1, top=1,hspace=0.1,wspace=0.05)\n",
    "    \n",
    "    anno_opts = dict(xy=(0, 1.05), xycoords='axes fraction',va='baseline', ha='left')\n",
    "    ax0.annotate('a. changes in annual mean wb', **anno_opts,fontsize=14)\n",
    "    ax1.annotate('b. changes in annual q95 wb', **anno_opts,fontsize=14)\n",
    "    \n",
    "    cmap=cmaps.sunshine_diff_12lev\n",
    "    levels=np.arange(-10, 10.1, 2)\n",
    "    norm=mpl.colors.BoundaryNorm(levels,ncolors=len(levels)+1,extend='both') \n",
    "    # Generate a colormap index based on discrete intervals; \n",
    "    # colors are linearly distributed between these \"bounds\".\n",
    "    \n",
    "    # apply the same norm to both subplots which let them share the same color scale\n",
    "    subplot(diff.mean_diff,ax0,cmap,norm)\n",
    "    g=subplot(diff.q95_diff,ax1,cmap,norm)\n",
    "    \n",
    "    f=plt.gcf() #get the reference to the current figure\n",
    "    cb=f.colorbar(g,ax=(ax0,ax1),orientation='horizontal', pad=0.05,shrink=0.5,ticks=levels,aspect=30) \n",
    "    cb.ax.tick_params(labelsize=12)"
   ]
  },
  {
   "cell_type": "code",
   "execution_count": null,
   "metadata": {},
   "outputs": [],
   "source": [
    "plot(diff)"
   ]
  },
  {
   "cell_type": "markdown",
   "metadata": {},
   "source": [
    "### 2.5 What if we want subplots of different sizes?\n",
    "GridSpec can enable us Customize subplots layouts"
   ]
  },
  {
   "cell_type": "code",
   "execution_count": null,
   "metadata": {
    "tags": []
   },
   "outputs": [],
   "source": [
    "#plot a map\n",
    "def Map(data,axis,norm,cmap):\n",
    "    h=data.where(landmask==0).plot(ax=axis,transform=ccrs.PlateCarree(),add_colorbar=False,\n",
    "                                                         norm=norm,cmap=cmap)\n",
    "    gl=axis.gridlines(draw_labels=True,alpha=0)\n",
    "    gl.xlabel_style = {'size': 12}\n",
    "    gl.ylabel_style = {'size': 12}\n",
    "    gl.top_labels = False\n",
    "    gl.right_labels = False\n",
    "    axis.coastlines(alpha=0.6)\n",
    "    return h\n",
    "# line plot about zonal average\n",
    "def lineplot(axis,x,y):\n",
    "    axis.plot(x,y,linewidth=2,color='blue')\n",
    "    axis.set_xlabel('change in wb ($^\\circ$C)',fontsize=12)\n",
    "    axis.set_ylabel('Latitude',fontsize=12)\n",
    "    axis.tick_params(axis='both', which='major', labelsize=12)\n",
    "    axis.yaxis.set_ticks_position(\"right\") # y axis ticks on the right\n",
    "    axis.yaxis.set_label_position(\"right\") # y axis labels on the right\n",
    "def plot2(diff):\n",
    "    levels=np.arange(-10, 10.1, 2)\n",
    "    fig = plt.figure(figsize=(12,4))\n",
    "    spec = gridspec.GridSpec(ncols=2, nrows=1,width_ratios=[10,1],wspace=-0.1) # 2 columns with a width ratio of 10:1\n",
    "    ax0 = fig.add_subplot(spec[0], projection=ccrs.PlateCarree())\n",
    "    ax1 = fig.add_subplot(spec[1])\n",
    "    anno_opts = dict(xy=(0, 1.05), xycoords='axes fraction',va='baseline', ha='left')\n",
    "    ax0.annotate('a. changes in annual mean wb', **anno_opts,fontsize=14)\n",
    "    ax1.annotate('b', **anno_opts,fontsize=14)\n",
    "    cmap=cmaps.sunshine_diff_12lev\n",
    "    norm=mpl.colors.BoundaryNorm(levels,ncolors=len(levels)+1,extend='both')\n",
    "    h=Map(diff.mean_diff,ax0,norm,cmap)\n",
    "    cb=fig.colorbar(h,ax=ax0,orientation='vertical',ticks=levels,\n",
    "                     pad=0.05,shrink=0.9)\n",
    "    cb.ax.tick_params(labelsize=12)\n",
    "    lineplot(ax1,diff.mean_diff.mean('lon'),diff.lat)"
   ]
  },
  {
   "cell_type": "code",
   "execution_count": null,
   "metadata": {},
   "outputs": [],
   "source": [
    "plot2(diff)"
   ]
  },
  {
   "cell_type": "markdown",
   "metadata": {},
   "source": [
    "### 2.6 What if we want to overlay something on the map to for example show the statistical significance\n",
    "\n",
    "we can use the contourf plot with hatches to achieve it."
   ]
  },
  {
   "cell_type": "code",
   "execution_count": null,
   "metadata": {
    "scrolled": true,
    "tags": []
   },
   "outputs": [],
   "source": [
    "fig = plt.figure(figsize=[8, 6])\n",
    "ax = plt.axes(projection=ccrs.PlateCarree())\n",
    "ax.coastlines('50m',linewidth=0.5)\n",
    "levels=np.arange(-10, 10.1, 2)\n",
    "cmap=cmaps.sunshine_diff_12lev\n",
    "norm=mpl.colors.BoundaryNorm(levels,ncolors=len(levels)+1,extend='both')\n",
    "temp = diff.mean_diff.where(landmask==0).plot(ax=ax,transform=ccrs.PlateCarree(),\n",
    "                                              cmap=cmap,\n",
    "                                              add_colorbar=False,norm=norm)\n",
    "pvalue=xr.where(diff.mean_diff>5,0.01,0.09) # let's artificially create a p-value array\n",
    "\n",
    "# add_cyclic_point can address the white line in the middle of the figure\n",
    "#pvalue, lon = add_cyclic_point(pvalue, coord=pvalue.lon)\n",
    "#pvalue=xr.DataArray(np.array(pvalue), dims=(\"lat\", \"lon\"), coords={\"lat\": diff.lat,\"lon\":np.array(lon)})\n",
    "#landmask2,lon2 = add_cyclic_point(landmask, coord=landmask.lon)\n",
    "#landmask2=xr.DataArray(np.array(landmask2), dims=(\"lat\", \"lon\"), coords={\"lat\": diff.lat,\"lon\":np.array(lon2)})\n",
    "\n",
    "pvalue.where(landmask==0).plot.contourf(ax=ax,transform=ccrs.PlateCarree(),\n",
    "                     colors='none',\n",
    "                     levels=[0,0.05,1],\n",
    "                     hatches=['....',None],\n",
    "                     add_colorbar=False,\n",
    "                     alpha=0)\n",
    "cb=plt.colorbar(temp,orientation='horizontal', pad=0.05,shrink=0.5,ticks=levels,aspect=30) \n",
    "cb.ax.tick_params(labelsize=12)\n",
    "\n",
    "plt.title('Change in annual mean wet bulb temperature for U.S.', fontsize=15)\n",
    "plt.show()"
   ]
  },
  {
   "cell_type": "markdown",
   "metadata": {},
   "source": [
    "____________\n",
    "## 3. Our final plot\n",
    "____________"
   ]
  },
  {
   "cell_type": "code",
   "execution_count": null,
   "metadata": {
    "tags": []
   },
   "outputs": [],
   "source": [
    "#plot a map\n",
    "def Map(data,axis,norm,cmap,up):\n",
    "    h=data.where(landmask==0).plot(ax=axis,transform=ccrs.PlateCarree(),add_colorbar=False,\n",
    "                                   norm=norm,cmap=cmap)\n",
    "    gl=axis.gridlines(draw_labels=True,alpha=0)\n",
    "    gl.xlabel_style = {'size': 12}\n",
    "    gl.ylabel_style = {'size': 12}\n",
    "    gl.top_labels = False\n",
    "    gl.right_labels = False\n",
    "    if up:\n",
    "        gl.bottom_labels = False\n",
    "    axis.coastlines(alpha=0.6)\n",
    "    return h\n",
    "# line plot for zonal average\n",
    "def lineplot(axis,x,y,up):\n",
    "    axis.plot(x,y,linewidth=2,color='blue')\n",
    "    axis.set_xlabel('change in wb ($^\\circ$C)',fontsize=12)\n",
    "    axis.set_ylabel('Latitude',fontsize=12)\n",
    "    axis.tick_params(axis='both', which='major', labelsize=12)\n",
    "    axis.yaxis.set_ticks_position(\"right\") # y axis ticks on the right\n",
    "    axis.yaxis.set_label_position(\"right\") # y axis labels on the right\n",
    "    if up:\n",
    "        axis.set_xlabel('')\n",
    "        axis.xaxis.set_ticklabels([])\n",
    "def plot3(diff):\n",
    "    levels=np.arange(-10, 10.1, 2)\n",
    "    norm=mpl.colors.BoundaryNorm(levels,ncolors=len(levels)+1,extend='both')\n",
    "    fig = plt.figure(figsize=(12,10))\n",
    "    spec = gridspec.GridSpec(ncols=2, nrows=2,width_ratios=[10,1],hspace=0.2,wspace=-0.1) # 2 columns with a width ratio of 10:1\n",
    "    ax0 = fig.add_subplot(spec[0], projection=ccrs.PlateCarree())\n",
    "    ax1 = fig.add_subplot(spec[1])\n",
    "    ax2 = fig.add_subplot(spec[2], projection=ccrs.PlateCarree())\n",
    "    ax3 = fig.add_subplot(spec[3])\n",
    "    anno_opts = dict(xy=(0, 1.05), xycoords='axes fraction',va='baseline', ha='left')\n",
    "    ax0.annotate('a. changes in annual mean wb', **anno_opts,fontsize=14)\n",
    "    ax1.annotate('b', **anno_opts,fontsize=14)\n",
    "    ax2.annotate('c. changes in annual q95 wb', **anno_opts,fontsize=14)\n",
    "    ax3.annotate('d', **anno_opts,fontsize=14)\n",
    "    cmap=cmaps.sunshine_diff_12lev\n",
    "    h=Map(diff.mean_diff,ax0,norm,cmap,True)\n",
    "    lineplot(ax1,diff.mean_diff.mean('lon'),diff.lat,True)\n",
    "    Map(diff.q95_diff,ax2,norm,cmap,False)\n",
    "    lineplot(ax3,diff.mean_diff.mean('lon'),diff.lat,False)\n",
    "    cb=fig.colorbar(h,ax=(ax0,ax2),orientation='vertical',\n",
    "                     pad=0.05,shrink=0.8,aspect=30)\n",
    "    cb.ax.tick_params(labelsize=12)\n",
    "    "
   ]
  },
  {
   "cell_type": "code",
   "execution_count": null,
   "metadata": {},
   "outputs": [],
   "source": [
    "plot3(diff)\n",
    "plt.savefig(\"./final_plot.pdf\", bbox_inches='tight')"
   ]
  },
  {
   "cell_type": "code",
   "execution_count": null,
   "metadata": {},
   "outputs": [],
   "source": []
  }
 ],
 "metadata": {
  "kernelspec": {
   "display_name": "qin2",
   "language": "python",
   "name": "qin2"
  },
  "language_info": {
   "codemirror_mode": {
    "name": "ipython",
    "version": 3
   },
   "file_extension": ".py",
   "mimetype": "text/x-python",
   "name": "python",
   "nbconvert_exporter": "python",
   "pygments_lexer": "ipython3",
   "version": "3.9.2"
  }
 },
 "nbformat": 4,
 "nbformat_minor": 4
}
